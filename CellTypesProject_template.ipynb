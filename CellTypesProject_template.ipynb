{
 "cells": [
  {
   "cell_type": "markdown",
   "metadata": {},
   "source": [
    "# Cell Types Project\n",
    "*Replace this with the name of your project*"
   ]
  },
  {
   "cell_type": "markdown",
   "metadata": {},
   "source": [
    "## Team Member Names & Contributions\n",
    "*Feel free to name your team, but please also include your real names and IDs here. Please specify who in your group worked on which parts of the project.*\n",
    "\n",
    "- **Captain Marvel**: You know, blowing up things and such.\n",
    "- **Ant Man**: Cleverly sneaking into small spaces\n",
    "- **Hulk**: AKA The \"Muscle\""
   ]
  },
  {
   "cell_type": "markdown",
   "metadata": {},
   "source": [
    "## Abstract"
   ]
  },
  {
   "cell_type": "markdown",
   "metadata": {},
   "source": [
    "*Fill in your 3-4 sentence abstract here*"
   ]
  },
  {
   "cell_type": "markdown",
   "metadata": {},
   "source": [
    "## Research Question"
   ]
  },
  {
   "cell_type": "markdown",
   "metadata": {},
   "source": [
    "*Fill in your research question here*"
   ]
  },
  {
   "cell_type": "markdown",
   "metadata": {},
   "source": [
    "# Background and Prior Work"
   ]
  },
  {
   "cell_type": "markdown",
   "metadata": {},
   "source": []
  },
  {
   "cell_type": "markdown",
   "metadata": {},
   "source": [
    "*Fill in your background and prior work here (~500 words). You are welcome to use additional subheadings. You should also include a paragraph describing each dataset and how you'll be using them.* \n",
    "\n",
    "### References (include links):\n",
    "(1)\n",
    "\n",
    "(2)"
   ]
  },
  {
   "cell_type": "markdown",
   "metadata": {},
   "source": [
    "## Hypothesis\n"
   ]
  },
  {
   "cell_type": "markdown",
   "metadata": {},
   "source": [
    "*Fill in your hypotheses here*"
   ]
  },
  {
   "cell_type": "markdown",
   "metadata": {},
   "source": [
    "## Setup\n",
    "*Are there packages that need to be imported, or datasets that need to be downloaded?*"
   ]
  },
  {
   "cell_type": "code",
   "execution_count": 2,
   "metadata": {},
   "outputs": [],
   "source": [
    "import pandas as pd\n",
    "import matplotlib.pyplot as plt\n",
    "import seaborn as sns\n",
    "cell_features_df = pd.read_csv('cell_types_specimen_details.csv')"
   ]
  },
  {
   "cell_type": "markdown",
   "metadata": {},
   "source": [
    "## Data Wrangling"
   ]
  },
  {
   "cell_type": "markdown",
   "metadata": {},
   "source": [
    "Describe your data wrangling steps here."
   ]
  },
  {
   "cell_type": "code",
   "execution_count": 5,
   "metadata": {},
   "outputs": [
    {
     "data": {
      "text/plain": [
       "Index(['line_name', 'specimen__id', 'specimen__name', 'specimen__hemisphere',\n",
       "       'structure__id', 'structure__name', 'structure__acronym',\n",
       "       'structure_parent__id', 'structure_parent__acronym', 'structure__layer',\n",
       "       'nr__max_euclidean_distance', 'nr__number_stems',\n",
       "       'nr__number_bifurcations', 'nr__average_contraction',\n",
       "       'nr__average_parent_daughter_ratio', 'nr__reconstruction_type',\n",
       "       'nrwkf__id', 'erwkf__id', 'ef__fast_trough_v_long_square',\n",
       "       'ef__upstroke_downstroke_ratio_long_square', 'ef__adaptation',\n",
       "       'ef__f_i_curve_slope', 'ef__threshold_i_long_square', 'ef__tau',\n",
       "       'ef__avg_isi', 'ef__avg_firing_rate', 'ef__ri', 'ef__peak_t_ramp',\n",
       "       'ef__vrest', 'si__height', 'si__width', 'si__path', 'csl__x', 'csl__y',\n",
       "       'csl__z', 'csl__normalized_depth', 'cell_reporter_status', 'm__glif',\n",
       "       'm__biophys', 'm__biophys_perisomatic', 'm__biophys_all_active',\n",
       "       'tag__apical', 'tag__dendrite_type', 'morph_thumb_path',\n",
       "       'ephys_thumb_path', 'ephys_inst_thresh_thumb_path', 'donor__age',\n",
       "       'donor__sex', 'donor__disease_state', 'donor__race',\n",
       "       'donor__years_of_seizure_history', 'donor__species', 'donor__id',\n",
       "       'donor__name'],\n",
       "      dtype='object')"
      ]
     },
     "execution_count": 5,
     "metadata": {},
     "output_type": "execute_result"
    }
   ],
   "source": [
    "# extracting human cell data \n",
    "\n",
    "cell_features_df.head()\n",
    "cell_features_df.set_index('specimen__id')\n",
    "\n",
    "# making sure the data we are working with is only epileptic patients\n",
    "epilepsy_df = cell_features_df.loc[cell_features_df['donor__disease_state'] == 'epilepsy']\n",
    "epilepsy_df.columns"
   ]
  },
  {
   "cell_type": "code",
   "execution_count": 7,
   "metadata": {},
   "outputs": [],
   "source": [
    "# further cleaning data \n",
    "\n",
    "epilepsy_df = epilepsy_df[epilepsy_df['donor__species'] == 'Homo Sapiens']\n",
    "epilepsy_df = epilepsy_df[(epilepsy_df['structure__layer'] == '4') | (epilepsy_df['structure__layer'] == '5')]"
   ]
  },
  {
   "cell_type": "code",
   "execution_count": 1,
   "metadata": {},
   "outputs": [],
   "source": [
    "# get electrophysiology info from allensdk package and join it with the human data \n",
    "\n",
    "\n",
    "from allensdk.core.cell_types_cache import CellTypesCache\n",
    "from allensdk.api.queries.cell_types_api import CellTypesApi\n",
    "import pandas as pd \n",
    "ctc = CellTypesCache(manifest_file='cell_types/manifest.json')\n",
    "ephys_features = ctc.get_ephys_features()\n",
    "ephys_features = pd.DataFrame(ephys_features)\n",
    "ephys_features = ephys_features.set_index('specimen_id')"
   ]
  },
  {
   "cell_type": "markdown",
   "metadata": {},
   "source": [
    "## Data Analysis & Results"
   ]
  },
  {
   "cell_type": "markdown",
   "metadata": {},
   "source": [
    "Include cells that describe the steps in your data analysis."
   ]
  },
  {
   "cell_type": "code",
   "execution_count": 5,
   "metadata": {},
   "outputs": [],
   "source": [
    "## YOUR CODE HERE\n",
    "## FEEL FREE TO ADD MULTIPLE CELLS PER SECTION"
   ]
  },
  {
   "cell_type": "markdown",
   "metadata": {},
   "source": [
    "## Conclusion & Discussion"
   ]
  },
  {
   "cell_type": "markdown",
   "metadata": {},
   "source": [
    "*Fill in your discussion information here*"
   ]
  }
 ],
 "metadata": {
  "kernelspec": {
   "display_name": "base",
   "language": "python",
   "name": "python3"
  },
  "language_info": {
   "codemirror_mode": {
    "name": "ipython",
    "version": 3
   },
   "file_extension": ".py",
   "mimetype": "text/x-python",
   "name": "python",
   "nbconvert_exporter": "python",
   "pygments_lexer": "ipython3",
   "version": "3.9.13"
  }
 },
 "nbformat": 4,
 "nbformat_minor": 4
}
